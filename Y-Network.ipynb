{
 "cells": [
  {
   "cell_type": "code",
   "execution_count": 1,
   "metadata": {},
   "outputs": [],
   "source": [
    "import matplotlib.pyplot as plt\n",
    "from project import SolverLP\n",
    "%matplotlib inline"
   ]
  },
  {
   "cell_type": "code",
   "execution_count": 2,
   "metadata": {},
   "outputs": [
    {
     "data": {
      "text/plain": [
       "[0.011142064800601379, 0.02591234420502713]"
      ]
     },
     "execution_count": 2,
     "metadata": {},
     "output_type": "execute_result"
    }
   ],
   "source": [
    "graph = dict()\n",
    "reverse_graph = dict()\n",
    "nodes = 5\n",
    "edges = 4\n",
    "inp = [(0, 1, 0.2, 0.05),\n",
    "       (2, 1, 0.3, 0.05),\n",
    "       (1, 3, 0.25, 0.05),\n",
    "       (1, 4, 0.1, 0.1)]\n",
    "e = [(0, 1), (2, 1), (1, 3), (1, 4)]\n",
    "edge = []\n",
    "for i in range(edges):\n",
    "    u, v, d, r = inp[i][0], inp[i][1], inp[i][2], inp[i][3]\n",
    "    edge.append((u, v, d, r))\n",
    "    if u in graph:\n",
    "        graph[u].append((v, d, r, i))\n",
    "    else:\n",
    "        graph[u] = [(v, d, r, i)]\n",
    "    if v in reverse_graph:\n",
    "        reverse_graph[v].append((u, d, r, i))\n",
    "    else:\n",
    "        reverse_graph[v] = [(u, d, r, i)]\n",
    "\n",
    "source = [0, 2]\n",
    "destination = [3]\n",
    "s_to_d = [(0, 3), (2, 3)]\n",
    "lim_s = dict()\n",
    "lim_R = dict()\n",
    "solv = SolverLP(nodes, edge, source, destination, graph, reverse_graph, s_to_d, lim_s, lim_R)\n",
    "solv.Solve()"
   ]
  },
  {
   "cell_type": "code",
   "execution_count": 3,
   "metadata": {},
   "outputs": [],
   "source": [
    "import networkx as nx"
   ]
  },
  {
   "cell_type": "code",
   "execution_count": 4,
   "metadata": {},
   "outputs": [],
   "source": [
    "G = nx.DiGraph()"
   ]
  },
  {
   "cell_type": "code",
   "execution_count": 77,
   "metadata": {},
   "outputs": [],
   "source": [
    "G.add_nodes_from(range(nodes))\n",
    "w = solv.edgesWeight()\n",
    "for i in range(len(e)):\n",
    "    if w[i] != 0:\n",
    "        G.add_edge(e[i][0], e[i][1], color='b', weight=w[i]*200)\n",
    "    else:\n",
    "        G.add_edge(e[i][0], e[i][1], color='r', weight=0)\n",
    "colors = [G[u][v]['color'] for u, v in G.edges]\n",
    "weights = [G[u][v]['weight'] for u,v in G.edges]\n",
    "pos = nx.circular_layout(G)"
   ]
  },
  {
   "cell_type": "code",
   "execution_count": 78,
   "metadata": {},
   "outputs": [
    {
     "data": {
      "text/plain": [
       "[<matplotlib.patches.FancyArrowPatch at 0x11573b6d8>,\n",
       " <matplotlib.patches.FancyArrowPatch at 0x11573b9b0>,\n",
       " <matplotlib.patches.FancyArrowPatch at 0x11573bcf8>,\n",
       " <matplotlib.patches.FancyArrowPatch at 0x11573bf98>]"
      ]
     },
     "execution_count": 78,
     "metadata": {},
     "output_type": "execute_result"
    },
    {
     "data": {
      "image/png": "[encoded data removed]",
      "text/plain": [
       "<Figure size 432x288 with 1 Axes>"
      ]
     },
     "metadata": {},
     "output_type": "display_data"
    }
   ],
   "source": [
    "nx.draw(G, pos, with_labels=True, node_size=500)\n",
    "nx.draw_networkx_edges(G, pos, edge_color=colors, alpha=0.5, width=weights)"
   ]
  },
  {
   "cell_type": "code",
   "execution_count": 71,
   "metadata": {},
   "outputs": [
    {
     "data": {
      "text/plain": [
       "{'color': 'b', 'weight': 1.6713097200902067}"
      ]
     },
     "execution_count": 71,
     "metadata": {},
     "output_type": "execute_result"
    }
   ],
   "source": [
    "G[0][1]"
   ]
  },
  {
   "cell_type": "code",
   "execution_count": null,
   "metadata": {},
   "outputs": [],
   "source": [
    "solv.Clear()"
   ]
  },
  {
   "cell_type": "code",
   "execution_count": null,
   "metadata": {},
   "outputs": [],
   "source": []
  }
 ],
 "metadata": {
  "kernelspec": {
   "display_name": "Python 3",
   "language": "python",
   "name": "python3"
  },
  "language_info": {
   "codemirror_mode": {
    "name": "ipython",
    "version": 3
   },
   "file_extension": ".py",
   "mimetype": "text/x-python",
   "name": "python",
   "nbconvert_exporter": "python",
   "pygments_lexer": "ipython3",
   "version": "3.6.4"
  }
 },
 "nbformat": 4,
 "nbformat_minor": 2
}
