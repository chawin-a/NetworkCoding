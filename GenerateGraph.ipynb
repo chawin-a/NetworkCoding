{
 "cells": [
  {
   "cell_type": "code",
   "execution_count": 1,
   "metadata": {},
   "outputs": [],
   "source": [
    "import matplotlib.pyplot as plt\n",
    "from project import SolverLP\n",
    "%matplotlib inline"
   ]
  },
  {
   "cell_type": "code",
   "execution_count": 48,
   "metadata": {},
   "outputs": [
    {
     "data": {
      "text/plain": [
       "[0.014928732183045757, 0.05971492873218304, 0.05971492873218304]"
      ]
     },
     "execution_count": 48,
     "metadata": {},
     "output_type": "execute_result"
    }
   ],
   "source": [
    "graph = dict()\n",
    "reverse_graph = dict()\n",
    "f = open('Partition.in', 'r')\n",
    "nodes = int(f.readline())\n",
    "edges = int(f.readline())\n",
    "edge = []\n",
    "e = []\n",
    "for i in range(edges):\n",
    "    inp = f.readline().split()\n",
    "    u, v, d, r = int(inp[0]), int(inp[1]), float(inp[2]), float(inp[3])\n",
    "    edge.append((u, v, d, r))\n",
    "    e.append((u, v))\n",
    "    if u in graph:\n",
    "        graph[u].append((v, d, r, i))\n",
    "    else:\n",
    "        graph[u] = [(v, d, r, i)]\n",
    "    if v in reverse_graph:\n",
    "        reverse_graph[v].append((u, d, r, i))\n",
    "    else:\n",
    "        reverse_graph[v] = [(u, d, r, i)]\n",
    "\n",
    "source = []\n",
    "for i in range(int(f.readline())):\n",
    "    source.append(int(f.readline()))\n",
    "\n",
    "destination = []\n",
    "for i in range(int(f.readline())):\n",
    "    destination.append(int(f.readline()))\n",
    "\n",
    "s_to_d = []\n",
    "for i in range(int(f.readline())):\n",
    "    (s, d) = [int(x) for x in f.readline().split()]\n",
    "    s_to_d.append((s, d))\n",
    "\n",
    "lim_s = dict()\n",
    "for i in range(int(f.readline())):\n",
    "    inp = f.readline().split()\n",
    "    lim_s[int(inp[0])] = float(inp[1])\n",
    "\n",
    "lim_R = dict()\n",
    "for i in range(int(f.readline())):\n",
    "    inp = f.readline().split()\n",
    "    lim_R[int(inp[0])] = float(inp[1])\n",
    "\n",
    "solv = SolverLP(nodes, edge, source, destination, graph, reverse_graph, s_to_d, lim_s, lim_R)\n",
    "solv.Solve()"
   ]
  },
  {
   "cell_type": "code",
   "execution_count": 49,
   "metadata": {},
   "outputs": [],
   "source": [
    "import networkx as nx"
   ]
  },
  {
   "cell_type": "code",
   "execution_count": 50,
   "metadata": {},
   "outputs": [],
   "source": [
    "G = nx.DiGraph()"
   ]
  },
  {
   "cell_type": "code",
   "execution_count": 51,
   "metadata": {},
   "outputs": [],
   "source": [
    "G.add_nodes_from(range(nodes))\n",
    "w = solv.edgesWeight()\n",
    "for i in range(len(e)):\n",
    "    if w[i] != 0:\n",
    "        G.add_edge(e[i][0], e[i][1], color='b', weight=w[i]*100)\n",
    "    else:\n",
    "        G.add_edge(e[i][0], e[i][1], color='r', weight=0)\n",
    "colors = [G[u][v]['color'] for u, v in G.edges]\n",
    "weights = [G[u][v]['weight'] for u,v in G.edges]\n",
    "pos = dict() # nx.random_layout(G)\n",
    "c = 0\n",
    "for i in range(4):\n",
    "    for j in range(3):\n",
    "        pos[c] = [i, j]\n",
    "        c+=1"
   ]
  },
  {
   "cell_type": "code",
   "execution_count": 52,
   "metadata": {},
   "outputs": [
    {
     "data": {
      "image/png": "[encoded data removed]",
      "text/plain": [
       "<Figure size 432x288 with 1 Axes>"
      ]
     },
     "metadata": {},
     "output_type": "display_data"
    }
   ],
   "source": [
    "nx.draw(G, pos, with_labels=True, node_size=550)\n",
    "nx.draw_networkx_edges(G, pos, edge_color=colors, alpha=0.5, width=weights)\n",
    "plt.show()"
   ]
  },
  {
   "cell_type": "code",
   "execution_count": 53,
   "metadata": {},
   "outputs": [],
   "source": [
    "# print(pos)"
   ]
  },
  {
   "cell_type": "code",
   "execution_count": 54,
   "metadata": {},
   "outputs": [],
   "source": [
    "solv.Clear()"
   ]
  },
  {
   "cell_type": "code",
   "execution_count": null,
   "metadata": {},
   "outputs": [],
   "source": []
  }
 ],
 "metadata": {
  "kernelspec": {
   "display_name": "Python 3",
   "language": "python",
   "name": "python3"
  },
  "language_info": {
   "codemirror_mode": {
    "name": "ipython",
    "version": 3
   },
   "file_extension": ".py",
   "mimetype": "text/x-python",
   "name": "python",
   "nbconvert_exporter": "python",
   "pygments_lexer": "ipython3",
   "version": "3.6.4"
  }
 },
 "nbformat": 4,
 "nbformat_minor": 2
}
